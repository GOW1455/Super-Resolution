{
 "cells": [
  {
   "cell_type": "markdown",
   "id": "553eae65",
   "metadata": {},
   "source": [
    "### Importing required libraries "
   ]
  },
  {
   "cell_type": "code",
   "execution_count": 1,
   "id": "3bb10ea7",
   "metadata": {},
   "outputs": [],
   "source": [
    "import os\n",
    "import urllib.request\n",
    "import zipfile"
   ]
  },
  {
   "cell_type": "markdown",
   "id": "4c16fa49",
   "metadata": {},
   "source": [
    "### Creating Directories"
   ]
  },
  {
   "cell_type": "code",
   "execution_count": 2,
   "id": "3241a758",
   "metadata": {},
   "outputs": [],
   "source": [
    "dataset_dir = \"DIV2K\"\n",
    "os.makedirs(dataset_dir, exist_ok=True)"
   ]
  },
  {
   "cell_type": "markdown",
   "id": "26f40652",
   "metadata": {},
   "source": [
    "### Defining URLs"
   ]
  },
  {
   "cell_type": "code",
   "execution_count": 3,
   "id": "57eca1c0",
   "metadata": {},
   "outputs": [],
   "source": [
    "downloads = {\n",
    "    \"train_HR\": \"https://data.vision.ee.ethz.ch/cvl/DIV2K/DIV2K_train_HR.zip\",\n",
    "    \"train_LR_X4\": \"https://data.vision.ee.ethz.ch/cvl/DIV2K/DIV2K_train_LR_bicubic_X4.zip\",\n",
    "    \"valid_HR\": \"https://data.vision.ee.ethz.ch/cvl/DIV2K/DIV2K_valid_HR.zip\",\n",
    "    \"valid_LR_X4\": \"https://data.vision.ee.ethz.ch/cvl/DIV2K/DIV2K_valid_LR_bicubic_X4.zip\"\n",
    "}"
   ]
  },
  {
   "cell_type": "markdown",
   "id": "7dc5915b",
   "metadata": {},
   "source": [
    "### Downloading Files"
   ]
  },
  {
   "cell_type": "code",
   "execution_count": 4,
   "id": "392f422f",
   "metadata": {},
   "outputs": [],
   "source": [
    "def download_zip(name, url):\n",
    "    zip_path = os.path.join(dataset_dir, f\"{name}.zip\")\n",
    "    if not os.path.exists(zip_path):\n",
    "        print(f\"Downloading {name}...\")\n",
    "        urllib.request.urlretrieve(url, zip_path)\n",
    "        print(f\"Downloaded {name}\")\n",
    "    else:\n",
    "        print(f\"{name} already downloaded.\")\n",
    "    return zip_path"
   ]
  },
  {
   "cell_type": "markdown",
   "id": "c700995e",
   "metadata": {},
   "source": [
    "### Unzip them"
   ]
  },
  {
   "cell_type": "code",
   "execution_count": 5,
   "id": "cddb4289",
   "metadata": {},
   "outputs": [],
   "source": [
    "def unzip_file(zip_path, extract_to):\n",
    "    if not os.path.exists(extract_to):\n",
    "        print(f\"Extracting {zip_path}...\")\n",
    "        with zipfile.ZipFile(zip_path, 'r') as zip_ref:\n",
    "            zip_ref.extractall(extract_to)\n",
    "        print(f\"Extracted to {extract_to}\")\n",
    "    else:\n",
    "        print(f\"Already extracted: {extract_to}\")"
   ]
  },
  {
   "cell_type": "markdown",
   "id": "f29c114a",
   "metadata": {},
   "source": [
    "### Process them"
   ]
  },
  {
   "cell_type": "code",
   "execution_count": 6,
   "id": "9e14ac30",
   "metadata": {},
   "outputs": [
    {
     "name": "stdout",
     "output_type": "stream",
     "text": [
      "Downloading train_HR...\n",
      "Downloaded train_HR\n",
      "Extracting DIV2K\\train_HR.zip...\n",
      "Extracted to DIV2K\\train_HR\n",
      "Downloading train_LR_X4...\n",
      "Downloaded train_LR_X4\n",
      "Extracting DIV2K\\train_LR_X4.zip...\n",
      "Extracted to DIV2K\\train_LR_X4\n",
      "Downloading valid_HR...\n",
      "Downloaded valid_HR\n",
      "Extracting DIV2K\\valid_HR.zip...\n",
      "Extracted to DIV2K\\valid_HR\n",
      "Downloading valid_LR_X4...\n",
      "Downloaded valid_LR_X4\n",
      "Extracting DIV2K\\valid_LR_X4.zip...\n",
      "Extracted to DIV2K\\valid_LR_X4\n",
      "\n",
      "Dataset ready at ./DIV2K\n"
     ]
    }
   ],
   "source": [
    "for name, url in downloads.items():\n",
    "    zip_file = download_zip(name, url)\n",
    "    output_folder = os.path.join(dataset_dir, name)\n",
    "    unzip_file(zip_file, output_folder)\n",
    "\n",
    "print(\"\\nDataset ready at ./DIV2K\")"
   ]
  }
 ],
 "metadata": {
  "kernelspec": {
   "display_name": "ML",
   "language": "python",
   "name": "python3"
  },
  "language_info": {
   "codemirror_mode": {
    "name": "ipython",
    "version": 3
   },
   "file_extension": ".py",
   "mimetype": "text/x-python",
   "name": "python",
   "nbconvert_exporter": "python",
   "pygments_lexer": "ipython3",
   "version": "3.12.4"
  }
 },
 "nbformat": 4,
 "nbformat_minor": 5
}
